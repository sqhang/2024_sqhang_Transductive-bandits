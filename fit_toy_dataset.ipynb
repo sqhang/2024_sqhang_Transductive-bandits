{
 "cells": [
  {
   "cell_type": "markdown",
   "metadata": {},
   "source": [
    "### Part 0. Import"
   ]
  },
  {
   "cell_type": "code",
   "execution_count": 46,
   "metadata": {},
   "outputs": [
    {
     "name": "stdout",
     "output_type": "stream",
     "text": [
      "The autoreload extension is already loaded. To reload it, use:\n",
      "  %reload_ext autoreload\n"
     ]
    }
   ],
   "source": [
    "%load_ext autoreload\n",
    "%autoreload 2"
   ]
  },
  {
   "cell_type": "code",
   "execution_count": 48,
   "metadata": {},
   "outputs": [],
   "source": [
    "import numpy as np\n",
    "import itertools\n",
    "from scipy.stats import pearsonr, spearmanr\n",
    "import matplotlib.pyplot as plt\n",
    "from scipy.stats import truncnorm"
   ]
  },
  {
   "cell_type": "code",
   "execution_count": 49,
   "metadata": {},
   "outputs": [],
   "source": [
    "from RAGE import RAGE\n",
    "from XY_ORACLE import XY_ORACLE\n",
    "from XY_STATIC import XY_STATIC\n",
    "from RAGE_opt import RAGE_opt\n",
    "from RAGE_center import RAGE_center"
   ]
  },
  {
   "cell_type": "code",
   "execution_count": 58,
   "metadata": {},
   "outputs": [
    {
     "name": "stderr",
     "output_type": "stream",
     "text": [
      "This is a critical message and should appear.\n"
     ]
    }
   ],
   "source": [
    "import logging\n",
    "\n",
    "for handler in logging.root.handlers[:]:\n",
    "    logging.root.removeHandler(handler)\n",
    "    \n",
    "logging.basicConfig(level=logging.CRITICAL, format='%(message)s')\n",
    "\n",
    "logging.debug(\"This is a debug message and should not appear.\")\n",
    "logging.critical(\"This is a critical message and should appear.\")\n"
   ]
  },
  {
   "cell_type": "markdown",
   "metadata": {},
   "source": [
    "### Part 1. Synthetic Dataset"
   ]
  },
  {
   "cell_type": "code",
   "execution_count": 52,
   "metadata": {},
   "outputs": [],
   "source": [
    "# def transductive_problem_instance(d, rad):\n",
    "#     assert d > 2, \"d needs to be greater than 2\"\n",
    "    \n",
    "#     theta_star = np.zeros((d, 1))\n",
    "#     theta_star[0, 0] = 2.0\n",
    "#     X = np.eye(2*d)\n",
    "#     Z = np.eye(2*d)[0:d,:]\n",
    "#     Zp = np.cos(rad)*np.eye(2*d)[0:d,:]+np.sin(rad)*np.eye(2*d)[d:2*d,:] \n",
    "#     Z = np.vstack((Z, Zp))\n",
    "    \n",
    "#     theta_star = np.zeros((2*d, 1))\n",
    "#     theta_star[0, 0] = 1\n",
    "#     theta_star[1, 0] = 0.8\n",
    "#     theta_star[2, 0] = 0.5\n",
    "#     theta_star[3, 0] = 0.3\n",
    "#     # for i in range(1, d+1):\n",
    "#     #     theta_star[i, 0] = 1 - (i * 1.0 / 2 * d)\n",
    "    \n",
    "#     return X, Z, theta_star"
   ]
  },
  {
   "cell_type": "code",
   "execution_count": 70,
   "metadata": {},
   "outputs": [],
   "source": [
    "def transductive_problem_instance(d, rad):\n",
    "    \n",
    "    theta_star = np.zeros((d, 1))\n",
    "    theta_star[0, 0] = 2.0\n",
    "    X = np.eye(2*d)\n",
    "    Z = np.eye(2*d)[0:d,:]\n",
    "    Zp = np.cos(rad)*np.eye(2*d)[0:d,:]+np.sin(rad)*np.eye(2*d)[d:2*d,:] \n",
    "    Z = np.vstack((Z, Zp))\n",
    "    \n",
    "    theta_star = np.zeros((2*d, 1))\n",
    "    theta_star[0, 0] = 1\n",
    "    \n",
    "    return X, Z, theta_star"
   ]
  },
  {
   "cell_type": "code",
   "execution_count": 56,
   "metadata": {},
   "outputs": [
    {
     "name": "stdout",
     "output_type": "stream",
     "text": [
      "(20, 20)\n",
      "(20, 20)\n",
      "(20, 1)\n"
     ]
    }
   ],
   "source": [
    "count = 20\n",
    "delta = 0.5\n",
    "rad = .1\n",
    "sweep = [20, 40, 60, 80]\n",
    "factor = 50\n",
    "d = 10\n",
    "\n",
    "X, Z, theta_star = transductive_problem_instance(d, rad)\n",
    "print(X.shape)\n",
    "print(Z.shape)\n",
    "print(theta_star.shape)\n"
   ]
  },
  {
   "cell_type": "code",
   "execution_count": 53,
   "metadata": {},
   "outputs": [
    {
     "name": "stdout",
     "output_type": "stream",
     "text": [
      "(20, 1)\n",
      "1.0\n",
      "0.0\n"
     ]
    }
   ],
   "source": [
    "true_reward = Z@theta_star\n",
    "print(true_reward.shape)\n",
    "print(true_reward.max())\n",
    "print(true_reward.min())"
   ]
  },
  {
   "cell_type": "code",
   "execution_count": 54,
   "metadata": {},
   "outputs": [
    {
     "data": {
      "text/plain": [
       "array([1.        , 0.99500417])"
      ]
     },
     "execution_count": 54,
     "metadata": {},
     "output_type": "execute_result"
    }
   ],
   "source": [
    "true_reward[true_reward > 0]\n",
    "# plt.hist(true_reward[true_reward > 0])"
   ]
  },
  {
   "cell_type": "markdown",
   "metadata": {},
   "source": [
    "### Part 2. Run RAGE"
   ]
  },
  {
   "cell_type": "code",
   "execution_count": 9,
   "metadata": {},
   "outputs": [],
   "source": [
    "rage_instance = RAGE(X, theta_star, factor, delta, Z)"
   ]
  },
  {
   "cell_type": "code",
   "execution_count": 10,
   "metadata": {},
   "outputs": [
    {
     "name": "stderr",
     "output_type": "stream",
     "text": [
      "\n",
      "\n",
      "\n",
      "finished phase 1\n",
      "round sample count 31062\n",
      "total sample count 31062\n",
      "active arms [0, 10]\n",
      "rho 24.576308193350492\n",
      "\n",
      "\n",
      "\n",
      "\n",
      "\n",
      "\n",
      "finished phase 2\n",
      "round sample count 2000\n",
      "total sample count 33062\n",
      "active arms [0, 10]\n",
      "rho 0.01219305619880116\n",
      "\n",
      "\n",
      "\n",
      "\n",
      "\n",
      "\n",
      "finished phase 3\n",
      "round sample count 2000\n",
      "total sample count 35062\n",
      "active arms [0, 10]\n",
      "rho 0.01219305619880116\n",
      "\n",
      "\n",
      "\n",
      "\n",
      "\n",
      "\n",
      "finished phase 4\n",
      "round sample count 2000\n",
      "total sample count 37062\n",
      "active arms [0, 10]\n",
      "rho 0.01219305619880116\n",
      "\n",
      "\n",
      "\n",
      "\n",
      "\n",
      "\n",
      "finished phase 5\n",
      "round sample count 5257\n",
      "total sample count 42319\n",
      "active arms [0, 10]\n",
      "rho 0.01219305619880116\n",
      "\n",
      "\n",
      "\n",
      "\n",
      "\n",
      "\n",
      "finished phase 6\n",
      "round sample count 21622\n",
      "total sample count 63941\n",
      "active arms [0]\n",
      "rho 0.01219305619880116\n",
      "\n",
      "\n",
      "\n",
      "Succeeded? True\n",
      "Sample complexity 63941\n"
     ]
    },
    {
     "name": "stdout",
     "output_type": "stream",
     "text": [
      "Early break at count 329, rho max 24.576308193350492\n",
      "Early break at count 18, rho max 0.01219305619880116\n",
      "Early break at count 18, rho max 0.01219305619880116\n",
      "Early break at count 18, rho max 0.01219305619880116\n",
      "Early break at count 18, rho max 0.01219305619880116\n",
      "Early break at count 18, rho max 0.01219305619880116\n"
     ]
    }
   ],
   "source": [
    "rage_instance.algorithm(42, var = False)"
   ]
  },
  {
   "cell_type": "code",
   "execution_count": 65,
   "metadata": {},
   "outputs": [
    {
     "data": {
      "text/plain": [
       "109852"
      ]
     },
     "execution_count": 65,
     "metadata": {},
     "output_type": "execute_result"
    }
   ],
   "source": [
    "rage_instance.N"
   ]
  },
  {
   "cell_type": "markdown",
   "metadata": {},
   "source": [
    "### Part 3. Run XY Static"
   ]
  },
  {
   "cell_type": "code",
   "execution_count": 66,
   "metadata": {},
   "outputs": [],
   "source": [
    "xy_static_instance = XY_STATIC(X, theta_star, delta, Z)"
   ]
  },
  {
   "cell_type": "code",
   "execution_count": 67,
   "metadata": {},
   "outputs": [
    {
     "name": "stderr",
     "output_type": "stream",
     "text": [
      "CRITICAL:root:Succeeded? True\n",
      "CRITICAL:root:Sample complexity 2959553\n"
     ]
    }
   ],
   "source": [
    "xy_static_instance.algorithm(42)"
   ]
  },
  {
   "cell_type": "code",
   "execution_count": 68,
   "metadata": {},
   "outputs": [
    {
     "data": {
      "text/plain": [
       "2959553"
      ]
     },
     "execution_count": 68,
     "metadata": {},
     "output_type": "execute_result"
    }
   ],
   "source": [
    "xy_static_instance.N"
   ]
  },
  {
   "cell_type": "markdown",
   "metadata": {},
   "source": [
    "### Part 4. Run Oracle"
   ]
  },
  {
   "cell_type": "code",
   "execution_count": 56,
   "metadata": {},
   "outputs": [],
   "source": [
    "oracle_instance = XY_ORACLE(X, theta_star, delta, Z)"
   ]
  },
  {
   "cell_type": "code",
   "execution_count": 57,
   "metadata": {},
   "outputs": [
    {
     "name": "stderr",
     "output_type": "stream",
     "text": [
      "INFO:root:num samples 2\n",
      "INFO:root:allocation [0 0 0 0 0 0 0 0 0 0 0 0 0 0 0 0 0 0 0 0 1 0 0 0 0 0 0 0 0 0 0 0 0 0 0 1 0\n",
      " 0 0 0]\n",
      "INFO:root:num samples 2\n",
      "INFO:root:allocation [0 0 0 0 0 0 0 0 0 0 0 0 0 0 0 0 0 0 0 0 2 0 0 0 0 0 0 0 0 0 0 0 0 0 0 0 0\n",
      " 0 0 0]\n",
      "INFO:root:num samples 2\n",
      "INFO:root:allocation [1 0 0 0 0 0 0 0 0 0 0 0 0 0 0 0 0 0 0 0 0 0 0 0 0 0 0 0 0 0 0 0 0 0 0 0 0\n",
      " 1 0 0]\n",
      "INFO:root:num samples 2\n",
      "INFO:root:allocation [0 0 0 0 0 0 0 0 0 0 0 0 0 0 0 0 0 0 0 0 2 0 0 0 0 0 0 0 0 0 0 0 0 0 0 0 0\n",
      " 0 0 0]\n",
      "INFO:root:num samples 3\n",
      "INFO:root:allocation [0 0 0 0 0 0 0 0 0 0 0 0 0 0 0 0 0 0 0 0 3 0 0 0 0 0 0 0 0 0 0 0 0 0 0 0 0\n",
      " 0 0 0]\n",
      "INFO:root:num samples 3\n",
      "INFO:root:allocation [0 0 0 0 0 0 0 0 0 0 0 0 0 0 0 0 0 0 0 0 3 0 0 0 0 0 0 0 0 0 0 0 0 0 0 0 0\n",
      " 0 0 0]\n",
      "INFO:root:num samples 4\n",
      "INFO:root:allocation [0 0 1 0 0 0 0 0 0 0 0 0 0 0 0 0 0 0 0 0 2 0 0 0 0 0 0 0 0 0 0 0 0 0 0 1 0\n",
      " 0 0 0]\n",
      "INFO:root:num samples 5\n",
      "INFO:root:allocation [1 0 0 0 0 0 0 0 0 1 0 0 0 0 0 0 0 0 0 0 2 0 0 0 0 0 0 0 0 0 0 1 0 0 0 0 0\n",
      " 0 0 0]\n",
      "INFO:root:num samples 6\n",
      "INFO:root:allocation [0 1 0 1 0 0 0 0 0 0 0 0 0 0 0 0 0 0 0 0 3 0 0 0 0 0 0 0 0 0 0 0 1 0 0 0 0\n",
      " 0 0 0]\n",
      "INFO:root:num samples 7\n",
      "INFO:root:allocation [1 0 1 0 0 0 0 0 0 0 0 0 0 0 0 0 0 0 0 0 3 1 0 0 0 0 0 0 0 0 0 0 0 0 0 0 0\n",
      " 0 1 0]\n",
      "INFO:root:num samples 8\n",
      "INFO:root:allocation [0 0 1 0 0 0 0 0 0 0 0 0 0 0 0 0 0 0 0 0 6 0 0 0 0 0 0 0 0 1 0 0 0 0 0 0 0\n",
      " 0 0 0]\n",
      "INFO:root:num samples 9\n",
      "INFO:root:allocation [2 0 0 0 1 0 0 0 0 0 0 0 0 0 0 0 0 0 0 0 5 0 0 0 0 0 0 0 0 0 0 1 0 0 0 0 0\n",
      " 0 0 0]\n",
      "INFO:root:num samples 11\n",
      "INFO:root:allocation [1 0 0 0 1 0 0 0 0 0 0 0 0 0 0 0 0 0 0 0 6 1 0 0 0 0 1 0 0 0 1 0 0 0 0 0 0\n",
      " 0 0 0]\n",
      "INFO:root:num samples 14\n",
      "INFO:root:allocation [1 1 0 0 0 0 0 0 0 0 0 0 0 0 0 0 0 1 0 0 9 0 0 0 0 0 0 0 0 0 0 1 0 0 0 0 0\n",
      " 0 1 0]\n",
      "INFO:root:num samples 16\n",
      "INFO:root:allocation [0 0 0 0 1 1 0 0 0 0 0 0 0 0 0 1 0 0 0 0 8 1 0 0 0 0 0 0 1 0 1 0 0 1 1 0 0\n",
      " 0 0 0]\n",
      "INFO:root:num samples 20\n",
      "INFO:root:allocation [ 0  0  0  0  1  0  0  0  0  0  0  0  0  0  0  0  0  0  0  0 16  0  0  0\n",
      "  0  1  0  0  0  1  0  0  0  0  0  0  0  1  0  0]\n",
      "INFO:root:num samples 24\n",
      "INFO:root:allocation [ 1  0  0  0  1  0  0  0  0  0  0  0  0  0  0  0  0  0  0  0 18  0  0  0\n",
      "  0  0  0  1  1  1  0  0  1  0  0  0  0  0  0  0]\n",
      "INFO:root:num samples 29\n",
      "INFO:root:allocation [ 2  1  0  0  1  0  0  1  0  0  0  0  0  0  0  0  0  0  0  0 22  0  0  0\n",
      "  0  0  1  0  0  0  0  0  0  0  0  1  0  0  0  0]\n",
      "INFO:root:num samples 35\n",
      "INFO:root:allocation [ 1  0  0  1  1  0  0  0  0  0  0  0  0  0  0  0  0  0  0  0 23  0  1  0\n",
      "  0  0  1  0  0  0  2  1  0  1  0  2  0  0  0  1]\n",
      "INFO:root:num samples 42\n",
      "INFO:root:allocation [ 1  2  1  1  0  0  0  0  0  0  0  0  0  0  0  0  0  0  0  0 23  1  1  0\n",
      "  0  0  0  1  0  2  1  1  0  0  0  1  1  3  1  1]\n",
      "INFO:root:num samples 50\n",
      "INFO:root:allocation [ 2  0  1  3  0  0  0  0  0  1  0  0  2  0  0  1  0  0  1  1 31  0  0  0\n",
      "  0  0  1  1  0  0  1  0  1  1  0  1  0  0  1  0]\n",
      "INFO:root:num samples 61\n",
      "INFO:root:allocation [ 0  1  2  0  0  0  1  0  0  0  1  0  0  0  1  1  0  0  0  1 43  2  0  1\n",
      "  1  0  0  0  1  0  0  0  0  2  1  0  1  0  0  1]\n",
      "INFO:root:num samples 73\n",
      "INFO:root:allocation [ 5  0  2  1  2  0  0  0  0  0  0  0  0  0  0  0  1  0  1  0 51  0  0  1\n",
      "  0  0  2  0  0  0  2  0  2  0  0  1  1  0  0  1]\n",
      "INFO:root:num samples 89\n",
      "INFO:root:allocation [ 6  1  1  2  1  0  0  0  0  1  0  0  0  0  0  1  0  0  0  0 53  1  1  0\n",
      "  1  1  1  3  1  1  0  0  2  2  2  2  0  1  3  1]\n",
      "INFO:root:num samples 107\n",
      "INFO:root:allocation [ 8  1  3  3  1  0  0  1  0  0  0  1  1  2  0  0  1  0  0  1 69  0  0  0\n",
      "  1  0  1  3  0  0  1  0  1  0  1  1  0  3  2  1]\n",
      "INFO:root:num samples 130\n",
      "INFO:root:allocation [ 5  2  2  0  5  0  0  0  1  1  0  0  0  0  0  0  0  0  0  0 91  2  1  0\n",
      "  2  0  1  3  1  1  2  0  0  2  1  2  2  1  1  1]\n",
      "INFO:root:num samples 157\n",
      "INFO:root:allocation [  8   2   3   2   4   0   0   0   0   2   0   0   1   2   0   1   0   0\n",
      "   2   0 102   2   1   0   4   1   1   1   0   3   2   0   1   1   2   0\n",
      "   3   3   2   1]\n",
      "INFO:root:num samples 190\n",
      "INFO:root:allocation [  5   2   2   3   7   1   1   0   0   0   0   1   0   0   0   0   2   0\n",
      "   0   1 122   1   6   2   1   1   5   3   3   3   1   5   2   0   1   1\n",
      "   2   2   3   1]\n",
      "INFO:root:num samples 229\n",
      "INFO:root:allocation [ 12   6   7   5   4   0   0   0   1   0   2   1   0   0   1   1   3   1\n",
      "   0   0 150   0   3   2   3   2   0   0   1   3   1   2   1   1   1   2\n",
      "   8   2   1   2]\n",
      "INFO:root:num samples 277\n",
      "INFO:root:allocation [ 12   2  10   8   6   0   1   2   0   0   0   0   0   0   0   0   2   0\n",
      "   0   1 189   1   4   1   4   1   2   2   6   1   3   0   3   2   2   5\n",
      "   3   3   0   1]\n",
      "INFO:root:num samples 335\n",
      "INFO:root:allocation [ 16   8   5   6   6   0   0   2   3   1   0   1   0   0   1   0   0   1\n",
      "   2   1 216   6   6   6   3   1   0   2   1   3   4   3   2   7   6   2\n",
      "   4   5   3   2]\n",
      "INFO:root:num samples 406\n",
      "INFO:root:allocation [ 15   5   8   5   5   1   0   0   2   1   2   0   0   4   1   4   1   1\n",
      "   0   1 272   4   2   4   3   2   9   3   7   4   3   6   2   3   4   5\n",
      "   4   2   3   8]\n",
      "INFO:root:num samples 491\n",
      "INFO:root:allocation [ 14  10   9   8  12   2   1   0   0   1   0   3   3   1   4   1   1   6\n",
      "   0   0 320   7   5   5   7   2   3   6   3   4   2   7   4   5   3   3\n",
      "   5   9  10   5]\n",
      "INFO:root:num samples 594\n",
      "INFO:root:allocation [ 26  10   9  20   5   3   0   3   0   1   0   2   3   3   2   1   0   1\n",
      "   1   3 389   4   5   4   6   4   6   6   5   1   7  11   5   9  10   5\n",
      "   9   6   3   6]\n",
      "INFO:root:num samples 718\n",
      "INFO:root:allocation [ 38  13  11   7  15   2   2   4   2   2   1   6   2   4   3   1   3   0\n",
      "   4   3 473   4   7   4   5   7   9   8   4   4   6   5   5   5  11   6\n",
      "  10   9   9   4]\n",
      "INFO:root:num samples 869\n",
      "INFO:root:allocation [ 48  13  11  10  22   1   2   0   3   0   2   2   1   2   3   2   2   4\n",
      "   2   1 593   8   7   7   3   7   7   6   6  11   8  10   4  12   9  11\n",
      "   4   8   9   8]\n",
      "INFO:root:num samples 1052\n",
      "INFO:root:allocation [ 42  16  18  16  33   3   5   1   3   4   2   3   3   5   2   3   4   3\n",
      "   4   3 669   9   6  10   8  12  15  12   9  10   8  10  11  14   8  13\n",
      "   7  11  20  17]\n",
      "INFO:root:num samples 1272\n",
      "INFO:root:allocation [ 54  12  26  28  23   2   3   0   4   3   6   6   3   4   2   7   5   5\n",
      "   7   6 814  12  12  15   9   8  12  11  17  18  13   6  12  16  11  13\n",
      "  19  13  19  16]\n",
      "INFO:root:num samples 1539\n",
      "INFO:root:allocation [  63   21   24   34   26    0    3    3    3    2    3    3    1    3\n",
      "    1    6    6    7   11    2 1032    9   15   11   13   20    9   12\n",
      "   15   12   20   17   16   16   16   15   18   23    9   19]\n",
      "INFO:root:num samples 1863\n",
      "INFO:root:allocation [  81   36   41   33   31    2    2    3    4    4    9    1    4    7\n",
      "    7    6    3    4    9    6 1188   18   14   23   27   16   21   20\n",
      "   15   12   14   26   17   22   18   27   17   27   24   24]\n",
      "INFO:root:num samples 2254\n",
      "INFO:root:allocation [  88   43   38   32   50    5    2    2    8    8    5   10    4    5\n",
      "    3    6    6    5   12    6 1516   22   16   14   17   24   21   19\n",
      "   16   22   27   21   14   17   25   27   24   24   27   23]\n",
      "INFO:root:num samples 2727\n",
      "INFO:root:allocation [ 103   42   48   44   68    5    3    9    4    3   12    4    6    7\n",
      "    8   10   12   11    9   14 1761   32   28   20   28   27   24   22\n",
      "   22   21   37   40   24   20   32   41   30   29   32   35]\n",
      "INFO:root:num samples 3299\n",
      "INFO:root:allocation [ 147   50   59   55   70    6    4   10    7    3    3    9   10   15\n",
      "    9    9   11   12    9   11 2180   21   29   26   28   21   33   26\n",
      "   35   37   21   35   45   44   27   34   39   34   37   38]\n",
      "INFO:root:num samples 3992\n",
      "INFO:root:allocation [ 166   65   56   79   84    4   10    9    9   14    9   19   12   14\n",
      "   12    8   16   19   21   19 2616   35   29   33   32   37   36   37\n",
      "   39   34   37   40   35   52   51   38   45   40   38   43]\n",
      "INFO:root:num samples 4831\n",
      "INFO:root:allocation [ 206   75   85   92   90    7    7   13    4    7   13   12   11   17\n",
      "   16   10   15   18   16   23 3210   30   47   42   36   37   52   44\n",
      "   50   40   48   48   44   44   41   48   60   58   64   51]\n",
      "INFO:root:num samples 5845\n",
      "INFO:root:allocation [ 243  101  113   91  133   10   15   10   13   10   26   17   12   14\n",
      "   14   23   21   20   22   25 3838   59   44   56   48   57   56   69\n",
      "   55   52   61   52   55   55   67   59   59   61   38   71]\n",
      "INFO:root:num samples 7072\n",
      "INFO:root:allocation [ 264  117  132  133  102    8   14   12   13   12   20   21   18   26\n",
      "   22   20   26   28   33   33 4692   62   67   53   56   66   71   66\n",
      "   72   66   74   70   63   80   66   86   76   78   80   74]\n",
      "CRITICAL:root:Succeeded? True\n",
      "CRITICAL:root:Sample complexity 40766\n"
     ]
    }
   ],
   "source": [
    "oracle_instance.algorithm(42)"
   ]
  },
  {
   "cell_type": "code",
   "execution_count": 58,
   "metadata": {},
   "outputs": [
    {
     "data": {
      "text/plain": [
       "40766"
      ]
     },
     "execution_count": 58,
     "metadata": {},
     "output_type": "execute_result"
    }
   ],
   "source": [
    "oracle_instance.N"
   ]
  },
  {
   "cell_type": "markdown",
   "metadata": {},
   "source": [
    "### Part 5. Run RAGE Opt"
   ]
  },
  {
   "cell_type": "code",
   "execution_count": 90,
   "metadata": {},
   "outputs": [],
   "source": [
    "rage_opt_instance = RAGE_opt(X, theta_star, factor, delta, Z)\n"
   ]
  },
  {
   "cell_type": "code",
   "execution_count": 89,
   "metadata": {},
   "outputs": [
    {
     "name": "stderr",
     "output_type": "stream",
     "text": [
      "Succeeded? True\n",
      "Sample complexity 109295\n"
     ]
    }
   ],
   "source": [
    "rage_opt_instance.algorithm(42)"
   ]
  },
  {
   "cell_type": "code",
   "execution_count": 91,
   "metadata": {},
   "outputs": [
    {
     "name": "stderr",
     "output_type": "stream",
     "text": [
      "Succeeded? True\n",
      "Sample complexity 106248\n"
     ]
    }
   ],
   "source": [
    "rage_opt_instance.algorithm(100)"
   ]
  },
  {
   "cell_type": "code",
   "execution_count": 92,
   "metadata": {},
   "outputs": [
    {
     "data": {
      "text/plain": [
       "106248"
      ]
     },
     "execution_count": 92,
     "metadata": {},
     "output_type": "execute_result"
    }
   ],
   "source": [
    "rage_opt_instance.N"
   ]
  },
  {
   "cell_type": "markdown",
   "metadata": {},
   "source": [
    "### Part 6. Run RAGE Center"
   ]
  },
  {
   "cell_type": "code",
   "execution_count": 71,
   "metadata": {},
   "outputs": [
    {
     "name": "stdout",
     "output_type": "stream",
     "text": [
      "(160, 160)\n",
      "(160, 160)\n",
      "(160, 1)\n"
     ]
    }
   ],
   "source": [
    "count = 20\n",
    "delta = 0.5\n",
    "rad = .1\n",
    "sweep = [20, 40, 60, 80]\n",
    "factor = 50\n",
    "d = 80\n",
    "\n",
    "X, Z, theta_star = transductive_problem_instance(d, rad)\n",
    "print(X.shape)\n",
    "print(Z.shape)\n",
    "print(theta_star.shape)"
   ]
  },
  {
   "cell_type": "code",
   "execution_count": 72,
   "metadata": {},
   "outputs": [
    {
     "name": "stderr",
     "output_type": "stream",
     "text": [
      "  8%|▊         | 397/4999 [00:24<04:41, 16.35it/s]\n",
      "finished phase 1\n",
      "round sample count 2488\n",
      "total sample count 2488\n",
      "Size of active arms 2\n"
     ]
    },
    {
     "name": "stdout",
     "output_type": "stream",
     "text": [
      "Early break at count 398, rho max 126.3970566908065\n",
      "n_min: 960\n",
      "\n"
     ]
    },
    {
     "name": "stderr",
     "output_type": "stream",
     "text": [
      "  0%|          | 6/4999 [00:00<05:10, 16.09it/s]\n",
      "finished phase 2\n",
      "round sample count 960\n",
      "total sample count 3448\n",
      "Size of active arms 2\n"
     ]
    },
    {
     "name": "stdout",
     "output_type": "stream",
     "text": [
      "Early break at count 7, rho max 0.002964315685933232\n",
      "n_min: 960\n",
      "\n"
     ]
    },
    {
     "name": "stderr",
     "output_type": "stream",
     "text": [
      "  0%|          | 6/4999 [00:00<05:08, 16.19it/s]\n",
      "finished phase 3\n",
      "round sample count 960\n",
      "total sample count 4408\n",
      "Size of active arms 2\n"
     ]
    },
    {
     "name": "stdout",
     "output_type": "stream",
     "text": [
      "Early break at count 7, rho max 0.002964315685933232\n",
      "n_min: 960\n",
      "\n"
     ]
    },
    {
     "name": "stderr",
     "output_type": "stream",
     "text": [
      "  0%|          | 6/4999 [00:00<05:18, 15.65it/s]\n",
      "finished phase 4\n",
      "round sample count 960\n",
      "total sample count 5368\n",
      "Size of active arms 2\n"
     ]
    },
    {
     "name": "stdout",
     "output_type": "stream",
     "text": [
      "Early break at count 7, rho max 0.002964315685933232\n",
      "n_min: 960\n",
      "\n"
     ]
    },
    {
     "name": "stderr",
     "output_type": "stream",
     "text": [
      "  0%|          | 6/4999 [00:00<05:08, 16.17it/s]\n",
      "finished phase 5\n",
      "round sample count 960\n",
      "total sample count 6328\n",
      "Size of active arms 2\n"
     ]
    },
    {
     "name": "stdout",
     "output_type": "stream",
     "text": [
      "Early break at count 7, rho max 0.002964315685933232\n",
      "n_min: 960\n",
      "\n"
     ]
    },
    {
     "name": "stderr",
     "output_type": "stream",
     "text": [
      "  0%|          | 6/4999 [00:00<05:08, 16.21it/s]\n",
      "finished phase 6\n",
      "round sample count 960\n",
      "total sample count 7288\n",
      "Size of active arms 1\n",
      "Succeeded? True\n",
      "Sample complexity 7288\n"
     ]
    },
    {
     "name": "stdout",
     "output_type": "stream",
     "text": [
      "Early break at count 7, rho max 0.002964315685933232\n",
      "n_min: 960\n",
      "\n"
     ]
    }
   ],
   "source": [
    "factor = 3\n",
    "rage_center_instance = RAGE_center(X, theta_star, factor, delta, Z)\n",
    "rage_center_instance.algorithm(834)"
   ]
  },
  {
   "cell_type": "code",
   "execution_count": 101,
   "metadata": {},
   "outputs": [
    {
     "name": "stderr",
     "output_type": "stream",
     "text": [
      "Succeeded? True\n",
      "Sample complexity 53683\n"
     ]
    }
   ],
   "source": [
    "rage_center_instance.algorithm(42)"
   ]
  },
  {
   "cell_type": "code",
   "execution_count": 102,
   "metadata": {},
   "outputs": [
    {
     "data": {
      "text/plain": [
       "53683"
      ]
     },
     "execution_count": 102,
     "metadata": {},
     "output_type": "execute_result"
    }
   ],
   "source": [
    "rage_center_instance.N"
   ]
  },
  {
   "cell_type": "code",
   "execution_count": 103,
   "metadata": {},
   "outputs": [
    {
     "data": {
      "text/plain": [
       "True"
      ]
     },
     "execution_count": 103,
     "metadata": {},
     "output_type": "execute_result"
    }
   ],
   "source": [
    "rage_center_instance.success"
   ]
  },
  {
   "cell_type": "markdown",
   "metadata": {},
   "source": [
    "### Part 7. Run Toy Dataset 1 Benchmarking"
   ]
  },
  {
   "cell_type": "code",
   "execution_count": 104,
   "metadata": {},
   "outputs": [],
   "source": [
    "count = 20\n",
    "delta = 0.05\n",
    "rad = .1\n",
    "sweep = [20, 40, 60, 80]\n",
    "factor = 50\n",
    "seeds = [42, 123, 789]"
   ]
  },
  {
   "cell_type": "code",
   "execution_count": 106,
   "metadata": {},
   "outputs": [
    {
     "name": "stdout",
     "output_type": "stream",
     "text": [
      "20 42\n"
     ]
    },
    {
     "name": "stderr",
     "output_type": "stream",
     "text": [
      "\n",
      "\n",
      "\n",
      "finished phase 1\n",
      "round sample count 70833\n",
      "total sample count 70833\n",
      "active arms [0, 20]\n",
      "rho 49.023766103473946\n",
      "\n",
      "\n",
      "\n",
      "\n",
      "\n",
      "\n",
      "finished phase 2\n",
      "round sample count 4000\n",
      "total sample count 74833\n",
      "active arms [0, 20]\n",
      "rho 0.011090894072773293\n",
      "\n",
      "\n",
      "\n",
      "\n",
      "\n",
      "\n",
      "finished phase 3\n",
      "round sample count 4000\n",
      "total sample count 78833\n",
      "active arms [0, 20]\n",
      "rho 0.011090894072773293\n",
      "\n",
      "\n",
      "\n",
      "\n",
      "\n",
      "\n",
      "finished phase 4\n",
      "round sample count 4000\n",
      "total sample count 82833\n",
      "active arms [0, 20]\n",
      "rho 0.011090894072773293\n",
      "\n",
      "\n",
      "\n",
      "\n",
      "\n",
      "\n",
      "finished phase 5\n",
      "round sample count 5296\n",
      "total sample count 88129\n",
      "active arms [0, 20]\n",
      "rho 0.011090894072773293\n",
      "\n",
      "\n",
      "\n",
      "\n",
      "\n",
      "\n",
      "finished phase 6\n",
      "round sample count 21723\n",
      "total sample count 109852\n",
      "active arms [0]\n",
      "rho 0.011090894072773293\n",
      "\n",
      "\n",
      "\n",
      "Succeeded? True\n",
      "Sample complexity 109852\n",
      "Succeeded? True\n",
      "Sample complexity 2959553\n",
      "Succeeded? True\n",
      "Sample complexity 40766\n",
      "Succeeded? True\n",
      "Sample complexity 109295\n",
      "Succeeded? True\n",
      "Sample complexity 53683\n"
     ]
    },
    {
     "name": "stdout",
     "output_type": "stream",
     "text": [
      "20 123\n"
     ]
    },
    {
     "name": "stderr",
     "output_type": "stream",
     "text": [
      "\n",
      "\n",
      "\n",
      "finished phase 1\n",
      "round sample count 70833\n",
      "total sample count 70833\n",
      "active arms [0, 20]\n",
      "rho 49.023766103473946\n",
      "\n",
      "\n",
      "\n",
      "\n",
      "\n",
      "\n",
      "finished phase 2\n",
      "round sample count 4000\n",
      "total sample count 74833\n",
      "active arms [0, 20]\n",
      "rho 0.011090894072773293\n",
      "\n",
      "\n",
      "\n",
      "\n",
      "\n",
      "\n",
      "finished phase 3\n",
      "round sample count 4000\n",
      "total sample count 78833\n",
      "active arms [0, 20]\n",
      "rho 0.011090894072773293\n",
      "\n",
      "\n",
      "\n",
      "\n",
      "\n",
      "\n",
      "finished phase 4\n",
      "round sample count 4000\n",
      "total sample count 82833\n",
      "active arms [0, 20]\n",
      "rho 0.011090894072773293\n",
      "\n",
      "\n",
      "\n",
      "\n",
      "\n",
      "\n",
      "finished phase 5\n",
      "round sample count 5296\n",
      "total sample count 88129\n",
      "active arms [0, 20]\n",
      "rho 0.011090894072773293\n",
      "\n",
      "\n",
      "\n",
      "\n",
      "\n",
      "\n",
      "finished phase 6\n",
      "round sample count 21723\n",
      "total sample count 109852\n",
      "active arms [0]\n",
      "rho 0.011090894072773293\n",
      "\n",
      "\n",
      "\n",
      "Succeeded? True\n",
      "Sample complexity 109852\n",
      "Succeeded? True\n",
      "Sample complexity 2959553\n",
      "Succeeded? True\n",
      "Sample complexity 27849\n",
      "Succeeded? True\n",
      "Sample complexity 106248\n",
      "Succeeded? True\n",
      "Sample complexity 53683\n"
     ]
    },
    {
     "name": "stdout",
     "output_type": "stream",
     "text": [
      "20 789\n"
     ]
    },
    {
     "name": "stderr",
     "output_type": "stream",
     "text": [
      "\n",
      "\n",
      "\n",
      "finished phase 1\n",
      "round sample count 70833\n",
      "total sample count 70833\n",
      "active arms [0, 20]\n",
      "rho 49.023766103473946\n",
      "\n",
      "\n",
      "\n",
      "\n",
      "\n",
      "\n",
      "finished phase 2\n",
      "round sample count 4000\n",
      "total sample count 74833\n",
      "active arms [0, 20]\n",
      "rho 0.011090894072773293\n",
      "\n",
      "\n",
      "\n",
      "\n",
      "\n",
      "\n",
      "finished phase 3\n",
      "round sample count 4000\n",
      "total sample count 78833\n",
      "active arms [0, 20]\n",
      "rho 0.011090894072773293\n",
      "\n",
      "\n",
      "\n",
      "\n",
      "\n",
      "\n",
      "finished phase 4\n",
      "round sample count 4000\n",
      "total sample count 82833\n",
      "active arms [0, 20]\n",
      "rho 0.011090894072773293\n",
      "\n",
      "\n",
      "\n",
      "\n",
      "\n",
      "\n",
      "finished phase 5\n",
      "round sample count 5296\n",
      "total sample count 88129\n",
      "active arms [0, 20]\n",
      "rho 0.011090894072773293\n",
      "\n",
      "\n",
      "\n",
      "\n",
      "\n",
      "\n",
      "finished phase 6\n",
      "round sample count 21723\n",
      "total sample count 109852\n",
      "active arms [0]\n",
      "rho 0.011090894072773293\n",
      "\n",
      "\n",
      "\n",
      "Succeeded? True\n",
      "Sample complexity 109852\n",
      "Succeeded? True\n",
      "Sample complexity 5393745\n",
      "Succeeded? True\n",
      "Sample complexity 33694\n",
      "Succeeded? True\n",
      "Sample complexity 106248\n",
      "Succeeded? True\n",
      "Sample complexity 53683\n"
     ]
    },
    {
     "name": "stdout",
     "output_type": "stream",
     "text": [
      "40 42\n"
     ]
    },
    {
     "name": "stderr",
     "output_type": "stream",
     "text": [
      "\n",
      "\n",
      "\n",
      "finished phase 1\n",
      "round sample count 162242\n",
      "total sample count 162242\n",
      "active arms [0, 40]\n",
      "rho 99.7886174256694\n",
      "\n",
      "\n",
      "\n",
      "\n",
      "\n",
      "\n",
      "finished phase 2\n",
      "round sample count 8000\n",
      "total sample count 170242\n",
      "active arms [0, 40]\n",
      "rho 0.011091836046563865\n",
      "\n",
      "\n",
      "\n",
      "\n",
      "\n",
      "\n",
      "finished phase 3\n",
      "round sample count 8000\n",
      "total sample count 178242\n",
      "active arms [0, 40]\n",
      "rho 0.011091836046563865\n",
      "\n",
      "\n",
      "\n",
      "\n",
      "\n",
      "\n",
      "finished phase 4\n",
      "round sample count 8000\n",
      "total sample count 186242\n",
      "active arms [0, 40]\n",
      "rho 0.011091836046563865\n",
      "\n",
      "\n",
      "\n",
      "\n",
      "\n",
      "\n",
      "finished phase 5\n",
      "round sample count 8000\n",
      "total sample count 194242\n",
      "active arms [0, 40]\n",
      "rho 0.011091836046563865\n",
      "\n",
      "\n",
      "\n",
      "\n",
      "\n",
      "\n",
      "finished phase 6\n",
      "round sample count 23781\n",
      "total sample count 218023\n",
      "active arms [0]\n",
      "rho 0.011091836046563865\n",
      "\n",
      "\n",
      "\n",
      "Succeeded? True\n",
      "Sample complexity 218023\n",
      "Succeeded? True\n",
      "Sample complexity 9830099\n",
      "Succeeded? True\n",
      "Sample complexity 40766\n",
      "Succeeded? True\n",
      "Sample complexity 214561\n",
      "Succeeded? True\n",
      "Sample complexity 119144\n"
     ]
    },
    {
     "name": "stdout",
     "output_type": "stream",
     "text": [
      "40 123\n"
     ]
    },
    {
     "name": "stderr",
     "output_type": "stream",
     "text": [
      "\n",
      "\n",
      "\n",
      "finished phase 1\n",
      "round sample count 162242\n",
      "total sample count 162242\n",
      "active arms [0, 40]\n",
      "rho 99.7886174256694\n",
      "\n",
      "\n",
      "\n",
      "\n",
      "\n",
      "\n",
      "finished phase 2\n",
      "round sample count 8000\n",
      "total sample count 170242\n",
      "active arms [0, 40]\n",
      "rho 0.011091836046563865\n",
      "\n",
      "\n",
      "\n",
      "\n",
      "\n",
      "\n",
      "finished phase 3\n",
      "round sample count 8000\n",
      "total sample count 178242\n",
      "active arms [0, 40]\n",
      "rho 0.011091836046563865\n",
      "\n",
      "\n",
      "\n",
      "\n",
      "\n",
      "\n",
      "finished phase 4\n",
      "round sample count 8000\n",
      "total sample count 186242\n",
      "active arms [0, 40]\n",
      "rho 0.011091836046563865\n",
      "\n",
      "\n",
      "\n",
      "\n",
      "\n",
      "\n",
      "finished phase 5\n",
      "round sample count 8000\n",
      "total sample count 194242\n",
      "active arms [0, 40]\n",
      "rho 0.011091836046563865\n",
      "\n",
      "\n",
      "\n",
      "\n",
      "\n",
      "\n",
      "finished phase 6\n",
      "round sample count 23781\n",
      "total sample count 218023\n",
      "active arms [0]\n",
      "rho 0.011091836046563865\n",
      "\n",
      "\n",
      "\n",
      "Succeeded? True\n",
      "Sample complexity 218023\n",
      "Succeeded? True\n",
      "Sample complexity 5393785\n",
      "Succeeded? True\n",
      "Sample complexity 33694\n",
      "Succeeded? True\n",
      "Sample complexity 217921\n",
      "Succeeded? True\n",
      "Sample complexity 119144\n"
     ]
    },
    {
     "name": "stdout",
     "output_type": "stream",
     "text": [
      "40 789\n"
     ]
    },
    {
     "name": "stderr",
     "output_type": "stream",
     "text": [
      "\n",
      "\n",
      "\n",
      "finished phase 1\n",
      "round sample count 162242\n",
      "total sample count 162242\n",
      "active arms [0, 40]\n",
      "rho 99.7886174256694\n",
      "\n",
      "\n",
      "\n",
      "\n",
      "\n",
      "\n",
      "finished phase 2\n",
      "round sample count 8000\n",
      "total sample count 170242\n",
      "active arms [0, 40]\n",
      "rho 0.011091836046563865\n",
      "\n",
      "\n",
      "\n",
      "\n",
      "\n",
      "\n",
      "finished phase 3\n",
      "round sample count 8000\n",
      "total sample count 178242\n",
      "active arms [0, 40]\n",
      "rho 0.011091836046563865\n",
      "\n",
      "\n",
      "\n",
      "\n",
      "\n",
      "\n",
      "finished phase 4\n",
      "round sample count 8000\n",
      "total sample count 186242\n",
      "active arms [0, 40]\n",
      "rho 0.011091836046563865\n",
      "\n",
      "\n",
      "\n",
      "\n",
      "\n",
      "\n",
      "finished phase 5\n",
      "round sample count 8000\n",
      "total sample count 194242\n",
      "active arms [0, 40]\n",
      "rho 0.011091836046563865\n",
      "\n",
      "\n",
      "\n",
      "\n",
      "\n",
      "\n",
      "finished phase 6\n",
      "round sample count 23781\n",
      "total sample count 218023\n",
      "active arms [0]\n",
      "rho 0.011091836046563865\n",
      "\n",
      "\n",
      "\n",
      "Succeeded? True\n",
      "Sample complexity 218023\n",
      "Succeeded? True\n",
      "Sample complexity 5393785\n",
      "Succeeded? True\n",
      "Sample complexity 40766\n",
      "Succeeded? True\n",
      "Sample complexity 214561\n",
      "Succeeded? True\n",
      "Sample complexity 119144\n"
     ]
    },
    {
     "name": "stdout",
     "output_type": "stream",
     "text": [
      "60 42\n"
     ]
    },
    {
     "name": "stderr",
     "output_type": "stream",
     "text": [
      "\n",
      "\n",
      "\n",
      "finished phase 1\n",
      "round sample count 259261\n",
      "total sample count 259261\n",
      "active arms [0, 60]\n",
      "rho 149.7119230811481\n",
      "\n",
      "\n",
      "\n",
      "\n",
      "\n",
      "\n",
      "finished phase 2\n",
      "round sample count 12000\n",
      "total sample count 271261\n",
      "active arms [0, 60]\n",
      "rho 0.011092150172178919\n",
      "\n",
      "\n",
      "\n",
      "\n",
      "\n",
      "\n",
      "finished phase 3\n",
      "round sample count 12000\n",
      "total sample count 283261\n",
      "active arms [0, 60]\n",
      "rho 0.011092150172178919\n",
      "\n",
      "\n",
      "\n",
      "\n",
      "\n",
      "\n",
      "finished phase 4\n",
      "round sample count 12000\n",
      "total sample count 295261\n",
      "active arms [0, 60]\n",
      "rho 0.011092150172178919\n",
      "\n",
      "\n",
      "\n",
      "\n",
      "\n",
      "\n",
      "finished phase 5\n",
      "round sample count 12000\n",
      "total sample count 307261\n",
      "active arms [0, 60]\n",
      "rho 0.011092150172178919\n",
      "\n",
      "\n",
      "\n",
      "\n",
      "\n",
      "\n",
      "finished phase 6\n",
      "round sample count 24984\n",
      "total sample count 332245\n",
      "active arms [0]\n",
      "rho 0.011092150172178919\n",
      "\n",
      "\n",
      "\n",
      "Succeeded? True\n",
      "Sample complexity 332245\n",
      "Succeeded? True\n",
      "Sample complexity 17915320\n",
      "Succeeded? True\n",
      "Sample complexity 49323\n",
      "Succeeded? True\n",
      "Sample complexity 323794\n",
      "Succeeded? True\n",
      "Sample complexity 187425\n"
     ]
    },
    {
     "name": "stdout",
     "output_type": "stream",
     "text": [
      "60 123\n"
     ]
    },
    {
     "name": "stderr",
     "output_type": "stream",
     "text": [
      "\n",
      "\n",
      "\n",
      "finished phase 1\n",
      "round sample count 259261\n",
      "total sample count 259261\n",
      "active arms [0, 60]\n",
      "rho 149.7119230811481\n",
      "\n",
      "\n",
      "\n",
      "\n",
      "\n",
      "\n",
      "finished phase 2\n",
      "round sample count 12000\n",
      "total sample count 271261\n",
      "active arms [0, 60]\n",
      "rho 0.011092150172178919\n",
      "\n",
      "\n",
      "\n",
      "\n",
      "\n",
      "\n",
      "finished phase 3\n",
      "round sample count 12000\n",
      "total sample count 283261\n",
      "active arms [0, 60]\n",
      "rho 0.011092150172178919\n",
      "\n",
      "\n",
      "\n",
      "\n",
      "\n",
      "\n",
      "finished phase 4\n",
      "round sample count 12000\n",
      "total sample count 295261\n",
      "active arms [0, 60]\n",
      "rho 0.011092150172178919\n",
      "\n",
      "\n",
      "\n",
      "\n",
      "\n",
      "\n",
      "finished phase 5\n",
      "round sample count 12000\n",
      "total sample count 307261\n",
      "active arms [0, 60]\n",
      "rho 0.011092150172178919\n",
      "\n",
      "\n",
      "\n",
      "\n",
      "\n",
      "\n",
      "finished phase 6\n",
      "round sample count 24984\n",
      "total sample count 332245\n",
      "active arms [0]\n",
      "rho 0.011092150172178919\n",
      "\n",
      "\n",
      "\n",
      "Succeeded? True\n",
      "Sample complexity 332245\n",
      "Succeeded? True\n",
      "Sample complexity 17915320\n",
      "Succeeded? True\n",
      "Sample complexity 40766\n",
      "Succeeded? True\n",
      "Sample complexity 323558\n",
      "Succeeded? True\n",
      "Sample complexity 187425\n"
     ]
    },
    {
     "name": "stdout",
     "output_type": "stream",
     "text": [
      "60 789\n"
     ]
    },
    {
     "name": "stderr",
     "output_type": "stream",
     "text": [
      "\n",
      "\n",
      "\n",
      "finished phase 1\n",
      "round sample count 259261\n",
      "total sample count 259261\n",
      "active arms [0, 60]\n",
      "rho 149.7119230811481\n",
      "\n",
      "\n",
      "\n",
      "\n",
      "\n",
      "\n",
      "finished phase 2\n",
      "round sample count 12000\n",
      "total sample count 271261\n",
      "active arms [0, 60]\n",
      "rho 0.011092150172178919\n",
      "\n",
      "\n",
      "\n",
      "\n",
      "\n",
      "\n",
      "finished phase 3\n",
      "round sample count 12000\n",
      "total sample count 283261\n",
      "active arms [0, 60]\n",
      "rho 0.011092150172178919\n",
      "\n",
      "\n",
      "\n",
      "\n",
      "\n",
      "\n",
      "finished phase 4\n",
      "round sample count 12000\n",
      "total sample count 295261\n",
      "active arms [0, 60]\n",
      "rho 0.011092150172178919\n",
      "\n",
      "\n",
      "\n",
      "\n",
      "\n",
      "\n",
      "finished phase 5\n",
      "round sample count 12000\n",
      "total sample count 307261\n",
      "active arms [0, 60]\n",
      "rho 0.011092150172178919\n",
      "\n",
      "\n",
      "\n",
      "\n",
      "\n",
      "\n",
      "finished phase 6\n",
      "round sample count 24984\n",
      "total sample count 332245\n",
      "active arms [0]\n",
      "rho 0.011092150172178919\n",
      "\n",
      "\n",
      "\n",
      "Succeeded? True\n",
      "Sample complexity 332245\n",
      "Succeeded? True\n",
      "Sample complexity 9830139\n",
      "Succeeded? True\n",
      "Sample complexity 49323\n",
      "Succeeded? True\n",
      "Sample complexity 320791\n",
      "Succeeded? True\n",
      "Sample complexity 187425\n"
     ]
    },
    {
     "name": "stdout",
     "output_type": "stream",
     "text": [
      "80 42\n"
     ]
    },
    {
     "name": "stderr",
     "output_type": "stream",
     "text": [
      "\n",
      "\n",
      "\n",
      "finished phase 1\n",
      "round sample count 370079\n",
      "total sample count 370079\n",
      "active arms [0, 80]\n",
      "rho 204.8199734935052\n",
      "\n",
      "\n",
      "\n",
      "\n",
      "\n",
      "\n",
      "finished phase 2\n",
      "round sample count 16000\n",
      "total sample count 386079\n",
      "active arms [0]\n",
      "rho 0.011092307260205336\n",
      "\n",
      "\n",
      "\n",
      "Succeeded? True\n",
      "Sample complexity 386079\n",
      "Succeeded? True\n",
      "Sample complexity 17915360\n",
      "Succeeded? True\n",
      "Sample complexity 59677\n",
      "Succeeded? True\n",
      "Sample complexity 449506\n",
      "Succeeded? True\n",
      "Sample complexity 262226\n"
     ]
    },
    {
     "name": "stdout",
     "output_type": "stream",
     "text": [
      "80 123\n"
     ]
    },
    {
     "name": "stderr",
     "output_type": "stream",
     "text": [
      "\n",
      "\n",
      "\n",
      "finished phase 1\n",
      "round sample count 370079\n",
      "total sample count 370079\n",
      "active arms [0, 80]\n",
      "rho 204.8199734935052\n",
      "\n",
      "\n",
      "\n",
      "\n",
      "\n",
      "\n",
      "finished phase 2\n",
      "round sample count 16000\n",
      "total sample count 386079\n",
      "active arms [0]\n",
      "rho 0.011092307260205336\n",
      "\n",
      "\n",
      "\n",
      "Succeeded? True\n",
      "Sample complexity 386079\n",
      "Succeeded? True\n",
      "Sample complexity 17915360\n",
      "Succeeded? True\n",
      "Sample complexity 72205\n",
      "Succeeded? True\n",
      "Sample complexity 450373\n",
      "Succeeded? True\n",
      "Sample complexity 262226\n"
     ]
    },
    {
     "name": "stdout",
     "output_type": "stream",
     "text": [
      "80 789\n"
     ]
    },
    {
     "name": "stderr",
     "output_type": "stream",
     "text": [
      "\n",
      "\n",
      "\n",
      "finished phase 1\n",
      "round sample count 370079\n",
      "total sample count 370079\n",
      "active arms [0, 80]\n",
      "rho 204.8199734935052\n",
      "\n",
      "\n",
      "\n",
      "\n",
      "\n",
      "\n",
      "finished phase 2\n",
      "round sample count 16000\n",
      "total sample count 386079\n",
      "active arms [0]\n",
      "rho 0.011092307260205336\n",
      "\n",
      "\n",
      "\n",
      "Succeeded? True\n",
      "Sample complexity 386079\n",
      "Succeeded? True\n",
      "Sample complexity 17915360\n",
      "Succeeded? True\n",
      "Sample complexity 59677\n",
      "Succeeded? True\n",
      "Sample complexity 443560\n",
      "Succeeded? True\n",
      "Sample complexity 262226\n"
     ]
    }
   ],
   "source": [
    "rage_dict = {}\n",
    "xy_static_dict = {}\n",
    "oracle_dict = {}\n",
    "rage_opt_dict = {}\n",
    "rage_center_dict = {}\n",
    "\n",
    "for d in sweep:\n",
    "    X, Z, theta_star = transductive_problem_instance(d, rad)\n",
    "    rage_dict[d] = []\n",
    "    xy_static_dict[d] = []\n",
    "    oracle_dict[d] = []\n",
    "    rage_opt_dict[d] = []\n",
    "    rage_center_dict[d] = []\n",
    "    \n",
    "    for seed in seeds:\n",
    "        print(d, seed)\n",
    "        rage_instance = RAGE(X, theta_star, factor, delta, Z)\n",
    "        rage_instance.algorithm(seed)\n",
    "        rage_dict[d].append((rage_instance.success, rage_instance.N))\n",
    "        \n",
    "        xy_static_instance = XY_STATIC(X, theta_star, delta, Z)\n",
    "        xy_static_instance.algorithm(seed)\n",
    "        xy_static_dict[d].append((xy_static_instance.success, xy_static_instance.N))\n",
    "        \n",
    "        oracle_instance = XY_ORACLE(X, theta_star, delta, Z)\n",
    "        oracle_instance.algorithm(seed)\n",
    "        oracle_dict[d].append((oracle_instance.success, oracle_instance.N))\n",
    "        \n",
    "        rage_opt_instance = RAGE_opt(X, theta_star, factor, delta, Z)\n",
    "        rage_opt_instance.algorithm(seed)\n",
    "        rage_opt_dict[d].append((rage_opt_instance.success, rage_opt_instance.N))\n",
    "        \n",
    "        rage_center_instance = RAGE_center(X, theta_star, factor, delta, Z)\n",
    "        rage_center_instance.algorithm(seed)\n",
    "        rage_center_dict[d].append((rage_center_instance.success, rage_center_instance.N))\n",
    "        "
   ]
  },
  {
   "cell_type": "code",
   "execution_count": 107,
   "metadata": {},
   "outputs": [
    {
     "name": "stdout",
     "output_type": "stream",
     "text": [
      "{20: [(True, 109852), (True, 109852), (True, 109852)], 40: [(True, 218023), (True, 218023), (True, 218023)], 60: [(True, 332245), (True, 332245), (True, 332245)], 80: [(True, 386079), (True, 386079), (True, 386079)]}\n",
      "{20: [(True, 2959553), (True, 2959553), (True, 5393745)], 40: [(True, 9830099), (True, 5393785), (True, 5393785)], 60: [(True, 17915320), (True, 17915320), (True, 9830139)], 80: [(True, 17915360), (True, 17915360), (True, 17915360)]}\n",
      "{20: [(True, 40766), (True, 27849), (True, 33694)], 40: [(True, 40766), (True, 33694), (True, 40766)], 60: [(True, 49323), (True, 40766), (True, 49323)], 80: [(True, 59677), (True, 72205), (True, 59677)]}\n",
      "{20: [(True, 109295), (True, 106248), (True, 106248)], 40: [(True, 214561), (True, 217921), (True, 214561)], 60: [(True, 323794), (True, 323558), (True, 320791)], 80: [(True, 449506), (True, 450373), (True, 443560)]}\n",
      "{20: [(True, 53683), (True, 53683), (True, 53683)], 40: [(True, 119144), (True, 119144), (True, 119144)], 60: [(True, 187425), (True, 187425), (True, 187425)], 80: [(True, 262226), (True, 262226), (True, 262226)]}\n"
     ]
    }
   ],
   "source": [
    "print(rage_dict)\n",
    "print(xy_static_dict)\n",
    "print(oracle_dict)\n",
    "print(rage_opt_dict)\n",
    "print(rage_center_dict)"
   ]
  },
  {
   "cell_type": "code",
   "execution_count": 151,
   "metadata": {},
   "outputs": [
    {
     "data": {
      "image/png": "[encoded data removed]",
      "text/plain": [
       "<Figure size 600x500 with 1 Axes>"
      ]
     },
     "metadata": {},
     "output_type": "display_data"
    }
   ],
   "source": [
    "# Predefined color-blind friendly colors\n",
    "colors = plt.get_cmap('magma')\n",
    "markers = ['o', '^', 's', 'p', '*']\n",
    "\n",
    "num_lines = 5\n",
    "color_indices = np.linspace(0.0, 0.7, num_lines)\n",
    "\n",
    "plt.figure(figsize=(6, 5))\n",
    "for idx, (method_dict, label) in enumerate(zip([rage_dict, xy_static_dict, oracle_dict, rage_center_dict, rage_opt_dict],\n",
    "                              ['RAGE', 'XY_STATIC', 'ORACLE', 'RAGE_center', 'RAGE_opt'])):\n",
    "    means = [np.mean([n for _, n in method_dict[d]]) for d in sweep]\n",
    "    color = colors(color_indices[idx])\n",
    "    plt.plot(sweep, means, label=label, color=color, marker=markers[idx % len(markers)], linestyle=\"dashdot\")\n",
    "\n",
    "plt.xlabel('dimension')\n",
    "plt.ylabel('Sample complexity')\n",
    "plt.yscale('log')\n",
    "# plt.title('Average Sample Complexity Across Methods')\n",
    "\n",
    "plt.legend(frameon=False, ncol=2, fontsize=\"small\")\n",
    "plt.show()\n"
   ]
  },
  {
   "cell_type": "markdown",
   "metadata": {},
   "source": [
    "### Part 8. Synthetic Dataset for Toy Dataset 2 "
   ]
  },
  {
   "cell_type": "code",
   "execution_count": 298,
   "metadata": {},
   "outputs": [],
   "source": [
    "def transductive_problem_instance(d, rad):\n",
    "    \n",
    "    theta_star = np.zeros((d, 1))\n",
    "    theta_star[0, 0] = 2.0\n",
    "    X = np.eye(2*d)\n",
    "    Z = np.eye(2*d)[0:d,:]\n",
    "    Zp = np.cos(rad)*np.eye(2*d)[0:d,:]+np.sin(rad)*np.eye(2*d)[d:2*d,:] \n",
    "    Z = np.vstack((Z, Zp))\n",
    "    \n",
    "    theta_star = np.zeros((2*d, 1))\n",
    "    theta_star[0, 0] = 1\n",
    "    \n",
    "    return X, Z, theta_star"
   ]
  },
  {
   "cell_type": "code",
   "execution_count": 299,
   "metadata": {},
   "outputs": [
    {
     "name": "stdout",
     "output_type": "stream",
     "text": [
      "(20, 20)\n",
      "(20, 20)\n",
      "(20, 1)\n"
     ]
    }
   ],
   "source": [
    "X, Z, theta_star = transductive_problem_instance(10, 0.1)\n",
    "print(X.shape)\n",
    "print(Z.shape)\n",
    "print(theta_star.shape)"
   ]
  },
  {
   "cell_type": "code",
   "execution_count": 59,
   "metadata": {},
   "outputs": [],
   "source": [
    "def generate_unit_vector(d):\n",
    "    \"\"\"Generates a unit vector in d-dimensional space.\"\"\"\n",
    "    vector = np.random.randn(d)\n",
    "    vector /= np.linalg.norm(vector)\n",
    "    return vector\n",
    "\n",
    "def generate_theta_star(d):\n",
    "    \"\"\"Generates theta_star as a unit norm vector drawn from a standard normal distribution.\"\"\"\n",
    "    return generate_unit_vector(d)\n",
    "\n",
    "def generate_sorted_rewards(n):\n",
    "    \"\"\"Generates n sorted rewards from a normal distribution centered at 0.5, truncated between 0 and 1.\"\"\"\n",
    "    lower, upper = 0, 1\n",
    "    mu, sigma = 0.5, 0.15  # Adjust sigma to control the spread\n",
    "    rewards = truncnorm((lower - mu) / sigma, (upper - mu) / sigma, loc=mu, scale=sigma).rvs(n)\n",
    "    return np.sort(rewards)\n",
    "\n",
    "def reverse_engineer_z(rewards, theta_star):\n",
    "    \"\"\"Reverse engineers Z vectors from rewards using arc cosine for angles and orthogonal completion.\"\"\"\n",
    "    d = len(theta_star)\n",
    "    n = len(rewards)\n",
    "    Z = np.zeros((n, d))\n",
    "    for i in range(n):\n",
    "        angle = np.arccos(rewards[i])\n",
    "        # Initial Z_i aligned with theta_star\n",
    "        Z[i] = np.cos(angle) * theta_star\n",
    "        # Generate a random orthogonal component\n",
    "        orthogonal_component = np.random.randn(d)\n",
    "        orthogonal_component -= orthogonal_component.dot(theta_star) * theta_star  # Make orthogonal to theta_star\n",
    "        orthogonal_component /= np.linalg.norm(orthogonal_component)  # Normalize\n",
    "        Z[i] += np.sin(angle) * orthogonal_component  # Add orthogonal component\n",
    "        Z[i] /= np.linalg.norm(Z[i])  # Ensure Z_i is a unit vector\n",
    "    return Z\n",
    "\n",
    "def transductive_problem_instance(d, n, seed = 42):\n",
    "    np.random.seed(seed)\n",
    "    theta_star = generate_theta_star(d)\n",
    "    rewards = generate_sorted_rewards(2 * n)  # Generate double for Z\n",
    "    Z = reverse_engineer_z(rewards, theta_star)\n",
    "    indices = np.random.choice(2 * n, n, replace=False)  # Randomly select half of Z to be X\n",
    "    X = Z[indices]\n",
    "    return X, Z, theta_star, rewards[indices]\n"
   ]
  },
  {
   "cell_type": "code",
   "execution_count": 65,
   "metadata": {},
   "outputs": [
    {
     "name": "stdout",
     "output_type": "stream",
     "text": [
      "(200, 2)\n",
      "(400, 2)\n",
      "(2, 1)\n"
     ]
    }
   ],
   "source": [
    "# Example usage\n",
    "d = 2  # Dimension of the space\n",
    "n = 200  # Number of vectors/rewards for X (20 for Z)\n",
    "X, Z, theta_star, X_rewards = transductive_problem_instance(d, n)\n",
    "theta_star  = theta_star[:, None]\n",
    "np.linalg.norm(X[2])\n",
    "print(X.shape)\n",
    "print(Z.shape)\n",
    "print(theta_star.shape)"
   ]
  },
  {
   "cell_type": "code",
   "execution_count": 66,
   "metadata": {},
   "outputs": [
    {
     "name": "stdout",
     "output_type": "stream",
     "text": [
      "0.8494279816809573 0.11846447410297525\n"
     ]
    },
    {
     "data": {
      "image/png": "[encoded data removed]",
      "text/plain": [
       "<Figure size 640x480 with 1 Axes>"
      ]
     },
     "metadata": {},
     "output_type": "display_data"
    }
   ],
   "source": [
    "print((Z @ theta_star).max(), (Z @ theta_star).min())\n",
    "plt.hist(Z @ theta_star, bins = 100)\n",
    "plt.xlim(0, 1)\n",
    "plt.show()"
   ]
  },
  {
   "cell_type": "code",
   "execution_count": 67,
   "metadata": {},
   "outputs": [
    {
     "name": "stdout",
     "output_type": "stream",
     "text": [
      "0.8494279816809573 0.1488624397495683\n"
     ]
    },
    {
     "data": {
      "image/png": "[encoded data removed]",
      "text/plain": [
       "<Figure size 640x480 with 1 Axes>"
      ]
     },
     "metadata": {},
     "output_type": "display_data"
    }
   ],
   "source": [
    "print((X @ theta_star).max(), (X @ theta_star).min())\n",
    "plt.hist(X @ theta_star, bins = 100)\n",
    "plt.xlim(0, 1)\n",
    "plt.show()"
   ]
  },
  {
   "cell_type": "code",
   "execution_count": 68,
   "metadata": {},
   "outputs": [
    {
     "name": "stderr",
     "output_type": "stream",
     "text": [
      "  2%|▏         | 86/4999 [00:04<04:02, 20.30it/s]\n",
      "finished phase 1\n",
      "round sample count 280\n",
      "total sample count 280\n",
      "Size of active arms 33\n"
     ]
    },
    {
     "name": "stdout",
     "output_type": "stream",
     "text": [
      "Early break at count 87, rho max 1.9381534054902836\n",
      "n_min: 280\n",
      "\n"
     ]
    },
    {
     "name": "stderr",
     "output_type": "stream",
     "text": [
      "  1%|          | 43/4999 [00:02<04:02, 20.47it/s]\n",
      "finished phase 2\n",
      "round sample count 120\n",
      "total sample count 400\n",
      "Size of active arms 6\n"
     ]
    },
    {
     "name": "stdout",
     "output_type": "stream",
     "text": [
      "Early break at count 44, rho max 0.699278813376881\n",
      "n_min: 120\n",
      "\n"
     ]
    },
    {
     "name": "stderr",
     "output_type": "stream",
     "text": [
      "  4%|▍         | 204/4999 [00:09<03:52, 20.59it/s]\n",
      "finished phase 3\n",
      "round sample count 540\n",
      "total sample count 940\n",
      "Size of active arms 2\n"
     ]
    },
    {
     "name": "stdout",
     "output_type": "stream",
     "text": [
      "Early break at count 205, rho max 0.004385384854430394\n",
      "n_min: 540\n",
      "\n"
     ]
    },
    {
     "name": "stderr",
     "output_type": "stream",
     "text": [
      "  3%|▎         | 173/4999 [00:08<03:54, 20.56it/s]\n",
      "finished phase 4\n",
      "round sample count 580\n",
      "total sample count 1520\n",
      "Size of active arms 1\n",
      "Succeeded? True\n",
      "Sample complexity 1520\n"
     ]
    },
    {
     "name": "stdout",
     "output_type": "stream",
     "text": [
      "Early break at count 174, rho max 0.0007198226095899141\n",
      "n_min: 580\n",
      "\n"
     ]
    }
   ],
   "source": [
    "factor = 5\n",
    "delta = 0.5\n",
    "rage_center_instance = RAGE_center(X, theta_star, factor, delta, Z)\n",
    "rage_center_instance.algorithm(41)"
   ]
  },
  {
   "cell_type": "code",
   "execution_count": 26,
   "metadata": {},
   "outputs": [
    {
     "name": "stderr",
     "output_type": "stream",
     "text": [
      "Succeeded? True\n",
      "Sample complexity 26594323\n"
     ]
    }
   ],
   "source": [
    "oracle_instance = XY_ORACLE(X, theta_star, delta, Z)\n",
    "oracle_instance.algorithm(250)"
   ]
  }
 ],
 "metadata": {
  "kernelspec": {
   "display_name": "Fiber-hap",
   "language": "python",
   "name": "python3"
  },
  "language_info": {
   "codemirror_mode": {
    "name": "ipython",
    "version": 3
   },
   "file_extension": ".py",
   "mimetype": "text/x-python",
   "name": "python",
   "nbconvert_exporter": "python",
   "pygments_lexer": "ipython3",
   "version": "3.10.13"
  }
 },
 "nbformat": 4,
 "nbformat_minor": 2
}
