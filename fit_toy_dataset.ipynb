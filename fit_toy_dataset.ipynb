{
 "cells": [
  {
   "cell_type": "markdown",
   "metadata": {},
   "source": [
    "### Part 0. Import"
   ]
  },
  {
   "cell_type": "code",
   "execution_count": 1,
   "metadata": {},
   "outputs": [],
   "source": [
    "%load_ext autoreload\n",
    "%autoreload 2"
   ]
  },
  {
   "cell_type": "code",
   "execution_count": 2,
   "metadata": {},
   "outputs": [],
   "source": [
    "import numpy as np\n",
    "import itertools\n",
    "from scipy.stats import pearsonr, spearmanr\n",
    "import matplotlib.pyplot as plt\n",
    "from scipy.stats import truncnorm"
   ]
  },
  {
   "cell_type": "code",
   "execution_count": 3,
   "metadata": {},
   "outputs": [],
   "source": [
    "from RAGE import RAGE\n",
    "from XY_ORACLE import XY_ORACLE\n",
    "from XY_STATIC import XY_STATIC\n",
    "from RAGE_opt import RAGE_opt\n",
    "from RAGE_center import RAGE_center"
   ]
  },
  {
   "cell_type": "code",
   "execution_count": 4,
   "metadata": {},
   "outputs": [
    {
     "name": "stderr",
     "output_type": "stream",
     "text": [
      "This is a critical message and should appear.\n"
     ]
    }
   ],
   "source": [
    "import logging\n",
    "\n",
    "for handler in logging.root.handlers[:]:\n",
    "    logging.root.removeHandler(handler)\n",
    "    \n",
    "logging.basicConfig(level=logging.CRITICAL, format='%(message)s')\n",
    "\n",
    "logging.debug(\"This is a debug message and should not appear.\")\n",
    "logging.critical(\"This is a critical message and should appear.\")\n"
   ]
  },
  {
   "cell_type": "markdown",
   "metadata": {},
   "source": [
    "### Part 1. Synthetic Dataset"
   ]
  },
  {
   "cell_type": "code",
   "execution_count": 7,
   "metadata": {},
   "outputs": [],
   "source": [
    "def transductive_problem_instance(d, rad):\n",
    "    \n",
    "    theta_star = np.zeros((d, 1))\n",
    "    theta_star[0, 0] = 2.0\n",
    "    X = np.eye(2*d)\n",
    "    Z = np.eye(2*d)[0:d,:]\n",
    "    Zp = np.cos(rad)*np.eye(2*d)[0:d,:]+np.sin(rad)*np.eye(2*d)[d:2*d,:] \n",
    "    Z = np.vstack((Z, Zp))\n",
    "    \n",
    "    theta_star = np.zeros((2*d, 1))\n",
    "    theta_star[0, 0] = 1\n",
    "    \n",
    "    return X, Z, theta_star"
   ]
  },
  {
   "cell_type": "code",
   "execution_count": 6,
   "metadata": {},
   "outputs": [
    {
     "name": "stdout",
     "output_type": "stream",
     "text": [
      "(40, 40)\n",
      "(40, 40)\n",
      "(40, 1)\n"
     ]
    }
   ],
   "source": [
    "count = 20\n",
    "delta = 0.5\n",
    "rad = .1\n",
    "sweep = [20, 40, 60, 80]\n",
    "factor = 50\n",
    "d = 20\n",
    "\n",
    "X, Z, theta_star = transductive_problem_instance(d, rad)\n",
    "print(X.shape)\n",
    "print(Z.shape)\n",
    "print(theta_star.shape)\n"
   ]
  },
  {
   "cell_type": "code",
   "execution_count": 7,
   "metadata": {},
   "outputs": [
    {
     "name": "stdout",
     "output_type": "stream",
     "text": [
      "(40, 1)\n",
      "1.0\n",
      "0.0\n"
     ]
    }
   ],
   "source": [
    "true_reward = Z@theta_star\n",
    "print(true_reward.shape)\n",
    "print(true_reward.max())\n",
    "print(true_reward.min())"
   ]
  },
  {
   "cell_type": "code",
   "execution_count": 8,
   "metadata": {},
   "outputs": [
    {
     "data": {
      "text/plain": [
       "array([1.        , 0.99500417])"
      ]
     },
     "execution_count": 8,
     "metadata": {},
     "output_type": "execute_result"
    }
   ],
   "source": [
    "true_reward[true_reward > 0]\n",
    "# plt.hist(true_reward[true_reward > 0])"
   ]
  },
  {
   "cell_type": "markdown",
   "metadata": {},
   "source": [
    "### Part 2. Run RAGE"
   ]
  },
  {
   "cell_type": "code",
   "execution_count": 9,
   "metadata": {},
   "outputs": [],
   "source": [
    "rage_instance = RAGE(X, theta_star, factor, delta, Z)"
   ]
  },
  {
   "cell_type": "code",
   "execution_count": 10,
   "metadata": {},
   "outputs": [
    {
     "name": "stderr",
     "output_type": "stream",
     "text": [
      "Succeeded? True\n",
      "Sample complexity 90847\n"
     ]
    }
   ],
   "source": [
    "rage_instance.algorithm(200, var=False)"
   ]
  },
  {
   "cell_type": "code",
   "execution_count": 11,
   "metadata": {},
   "outputs": [
    {
     "data": {
      "text/plain": [
       "90847"
      ]
     },
     "execution_count": 11,
     "metadata": {},
     "output_type": "execute_result"
    }
   ],
   "source": [
    "rage_instance.N"
   ]
  },
  {
   "cell_type": "markdown",
   "metadata": {},
   "source": [
    "### Part 3. Run XY Static"
   ]
  },
  {
   "cell_type": "code",
   "execution_count": 12,
   "metadata": {},
   "outputs": [],
   "source": [
    "xy_static_instance = XY_STATIC(X, theta_star, delta, Z)"
   ]
  },
  {
   "cell_type": "code",
   "execution_count": 13,
   "metadata": {},
   "outputs": [
    {
     "name": "stderr",
     "output_type": "stream",
     "text": [
      "Succeeded? True\n",
      "Sample complexity 1623920\n"
     ]
    }
   ],
   "source": [
    "xy_static_instance.algorithm(250, sigma=1)"
   ]
  },
  {
   "cell_type": "code",
   "execution_count": 14,
   "metadata": {},
   "outputs": [
    {
     "data": {
      "text/plain": [
       "1623920"
      ]
     },
     "execution_count": 14,
     "metadata": {},
     "output_type": "execute_result"
    }
   ],
   "source": [
    "xy_static_instance.N"
   ]
  },
  {
   "cell_type": "markdown",
   "metadata": {},
   "source": [
    "### Part 4. Run Oracle"
   ]
  },
  {
   "cell_type": "code",
   "execution_count": 95,
   "metadata": {},
   "outputs": [
    {
     "name": "stdout",
     "output_type": "stream",
     "text": [
      "(20, 20)\n",
      "(20, 20)\n"
     ]
    }
   ],
   "source": [
    "print(X.shape)\n",
    "print(Z.shape)"
   ]
  },
  {
   "cell_type": "code",
   "execution_count": 15,
   "metadata": {},
   "outputs": [],
   "source": [
    "oracle_instance = XY_ORACLE(X, theta_star, delta, Z)"
   ]
  },
  {
   "cell_type": "code",
   "execution_count": 16,
   "metadata": {},
   "outputs": [
    {
     "name": "stderr",
     "output_type": "stream",
     "text": [
      "Succeeded? True\n",
      "Sample complexity 33694\n"
     ]
    }
   ],
   "source": [
    "oracle_instance.algorithm(42)"
   ]
  },
  {
   "cell_type": "code",
   "execution_count": 17,
   "metadata": {},
   "outputs": [
    {
     "data": {
      "text/plain": [
       "33694"
      ]
     },
     "execution_count": 17,
     "metadata": {},
     "output_type": "execute_result"
    }
   ],
   "source": [
    "oracle_instance.N"
   ]
  },
  {
   "cell_type": "markdown",
   "metadata": {},
   "source": [
    "### Part 5. Run RAGE Opt"
   ]
  },
  {
   "cell_type": "code",
   "execution_count": 21,
   "metadata": {},
   "outputs": [],
   "source": [
    "rage_opt_instance = RAGE_opt(X, theta_star, factor, delta, Z)\n"
   ]
  },
  {
   "cell_type": "code",
   "execution_count": 19,
   "metadata": {},
   "outputs": [
    {
     "name": "stderr",
     "output_type": "stream",
     "text": [
      "Succeeded? True\n",
      "Sample complexity 109678\n"
     ]
    }
   ],
   "source": [
    "rage_opt_instance.algorithm(42, var=False)"
   ]
  },
  {
   "cell_type": "code",
   "execution_count": 22,
   "metadata": {},
   "outputs": [
    {
     "name": "stderr",
     "output_type": "stream",
     "text": [
      "Succeeded? True\n",
      "Sample complexity 87993\n"
     ]
    }
   ],
   "source": [
    "rage_opt_instance.algorithm(100, var=False)"
   ]
  },
  {
   "cell_type": "code",
   "execution_count": 23,
   "metadata": {},
   "outputs": [
    {
     "data": {
      "text/plain": [
       "87993"
      ]
     },
     "execution_count": 23,
     "metadata": {},
     "output_type": "execute_result"
    }
   ],
   "source": [
    "rage_opt_instance.N"
   ]
  },
  {
   "cell_type": "markdown",
   "metadata": {},
   "source": [
    "### Part 6. Run RAGE Center"
   ]
  },
  {
   "cell_type": "code",
   "execution_count": 24,
   "metadata": {},
   "outputs": [
    {
     "name": "stderr",
     "output_type": "stream",
     "text": [
      "Succeeded? True\n",
      "Sample complexity 47253\n"
     ]
    }
   ],
   "source": [
    "rage_center_instance = RAGE_center(X, theta_star, factor, delta, Z)\n",
    "rage_center_instance.algorithm(42, var=False)"
   ]
  },
  {
   "cell_type": "code",
   "execution_count": 25,
   "metadata": {},
   "outputs": [
    {
     "data": {
      "text/plain": [
       "47253"
      ]
     },
     "execution_count": 25,
     "metadata": {},
     "output_type": "execute_result"
    }
   ],
   "source": [
    "rage_center_instance.N"
   ]
  },
  {
   "cell_type": "code",
   "execution_count": 26,
   "metadata": {},
   "outputs": [
    {
     "data": {
      "text/plain": [
       "True"
      ]
     },
     "execution_count": 26,
     "metadata": {},
     "output_type": "execute_result"
    }
   ],
   "source": [
    "rage_center_instance.success"
   ]
  },
  {
   "cell_type": "markdown",
   "metadata": {},
   "source": [
    "### Part 7. Run Synthetic Dataset Benchmarking"
   ]
  },
  {
   "cell_type": "code",
   "execution_count": 8,
   "metadata": {},
   "outputs": [],
   "source": [
    "count = 20\n",
    "delta = 0.05\n",
    "rad = .1\n",
    "sweep = [20, 40, 60, 80]\n",
    "factor = 50\n",
    "seeds = [42, 123, 789]"
   ]
  },
  {
   "cell_type": "code",
   "execution_count": 9,
   "metadata": {},
   "outputs": [
    {
     "name": "stdout",
     "output_type": "stream",
     "text": [
      "20 42\n"
     ]
    },
    {
     "name": "stderr",
     "output_type": "stream",
     "text": [
      "Succeeded? True\n",
      "Sample complexity 109852\n",
      "Succeeded? True\n",
      "Sample complexity 2959553\n",
      "Succeeded? True\n",
      "Sample complexity 40766\n",
      "Succeeded? True\n",
      "Sample complexity 109295\n",
      "Succeeded? True\n",
      "Sample complexity 55114\n"
     ]
    },
    {
     "name": "stdout",
     "output_type": "stream",
     "text": [
      "20 123\n"
     ]
    },
    {
     "name": "stderr",
     "output_type": "stream",
     "text": [
      "Succeeded? True\n",
      "Sample complexity 109852\n",
      "Succeeded? True\n",
      "Sample complexity 2959553\n",
      "Succeeded? True\n",
      "Sample complexity 27849\n",
      "Succeeded? True\n",
      "Sample complexity 106248\n",
      "Succeeded? True\n",
      "Sample complexity 55114\n"
     ]
    },
    {
     "name": "stdout",
     "output_type": "stream",
     "text": [
      "20 789\n"
     ]
    },
    {
     "name": "stderr",
     "output_type": "stream",
     "text": [
      "Succeeded? True\n",
      "Sample complexity 109852\n",
      "Succeeded? True\n",
      "Sample complexity 5393745\n",
      "Succeeded? True\n",
      "Sample complexity 33694\n",
      "Succeeded? True\n",
      "Sample complexity 106248\n",
      "Succeeded? True\n",
      "Sample complexity 77295\n"
     ]
    },
    {
     "name": "stdout",
     "output_type": "stream",
     "text": [
      "40 42\n"
     ]
    },
    {
     "name": "stderr",
     "output_type": "stream",
     "text": [
      "Succeeded? True\n",
      "Sample complexity 218023\n",
      "Succeeded? True\n",
      "Sample complexity 9830099\n",
      "Succeeded? True\n",
      "Sample complexity 40766\n",
      "Succeeded? True\n",
      "Sample complexity 214561\n",
      "Succeeded? True\n",
      "Sample complexity 119144\n"
     ]
    },
    {
     "name": "stdout",
     "output_type": "stream",
     "text": [
      "40 123\n"
     ]
    },
    {
     "name": "stderr",
     "output_type": "stream",
     "text": [
      "Succeeded? True\n",
      "Sample complexity 218023\n",
      "Succeeded? True\n",
      "Sample complexity 5393785\n",
      "Succeeded? True\n",
      "Sample complexity 33694\n",
      "Succeeded? True\n",
      "Sample complexity 217921\n",
      "Succeeded? True\n",
      "Sample complexity 119144\n"
     ]
    },
    {
     "name": "stdout",
     "output_type": "stream",
     "text": [
      "40 789\n"
     ]
    },
    {
     "name": "stderr",
     "output_type": "stream",
     "text": [
      "Succeeded? True\n",
      "Sample complexity 218023\n",
      "Succeeded? True\n",
      "Sample complexity 5393785\n",
      "Succeeded? True\n",
      "Sample complexity 40766\n",
      "Succeeded? True\n",
      "Sample complexity 214561\n",
      "Succeeded? True\n",
      "Sample complexity 119144\n"
     ]
    },
    {
     "name": "stdout",
     "output_type": "stream",
     "text": [
      "60 42\n"
     ]
    },
    {
     "name": "stderr",
     "output_type": "stream",
     "text": [
      "Succeeded? True\n",
      "Sample complexity 332245\n",
      "Succeeded? True\n",
      "Sample complexity 17915320\n",
      "Succeeded? True\n",
      "Sample complexity 49323\n",
      "Succeeded? True\n",
      "Sample complexity 323794\n",
      "Succeeded? True\n",
      "Sample complexity 187425\n"
     ]
    },
    {
     "name": "stdout",
     "output_type": "stream",
     "text": [
      "60 123\n"
     ]
    },
    {
     "name": "stderr",
     "output_type": "stream",
     "text": [
      "Succeeded? True\n",
      "Sample complexity 332245\n",
      "Succeeded? True\n",
      "Sample complexity 17915320\n",
      "Succeeded? True\n",
      "Sample complexity 40766\n",
      "Succeeded? True\n",
      "Sample complexity 323558\n",
      "Succeeded? True\n",
      "Sample complexity 187425\n"
     ]
    },
    {
     "name": "stdout",
     "output_type": "stream",
     "text": [
      "60 789\n"
     ]
    },
    {
     "name": "stderr",
     "output_type": "stream",
     "text": [
      "Succeeded? True\n",
      "Sample complexity 332245\n",
      "Succeeded? True\n",
      "Sample complexity 9830139\n",
      "Succeeded? True\n",
      "Sample complexity 49323\n",
      "Succeeded? True\n",
      "Sample complexity 320791\n",
      "Succeeded? True\n",
      "Sample complexity 187425\n"
     ]
    },
    {
     "name": "stdout",
     "output_type": "stream",
     "text": [
      "80 42\n"
     ]
    },
    {
     "name": "stderr",
     "output_type": "stream",
     "text": [
      "Succeeded? True\n",
      "Sample complexity 459917\n",
      "Succeeded? True\n",
      "Sample complexity 17915360\n",
      "Succeeded? True\n",
      "Sample complexity 59677\n",
      "Succeeded? True\n",
      "Sample complexity 449506\n",
      "Succeeded? True\n",
      "Sample complexity 262226\n"
     ]
    },
    {
     "name": "stdout",
     "output_type": "stream",
     "text": [
      "80 123\n"
     ]
    },
    {
     "name": "stderr",
     "output_type": "stream",
     "text": [
      "Succeeded? True\n",
      "Sample complexity 459917\n",
      "Succeeded? True\n",
      "Sample complexity 17915360\n",
      "Succeeded? True\n",
      "Sample complexity 72205\n",
      "Succeeded? True\n",
      "Sample complexity 450373\n",
      "Succeeded? True\n",
      "Sample complexity 262226\n"
     ]
    },
    {
     "name": "stdout",
     "output_type": "stream",
     "text": [
      "80 789\n"
     ]
    },
    {
     "name": "stderr",
     "output_type": "stream",
     "text": [
      "Succeeded? True\n",
      "Sample complexity 459917\n",
      "Succeeded? True\n",
      "Sample complexity 17915360\n",
      "Succeeded? True\n",
      "Sample complexity 59677\n",
      "Succeeded? True\n",
      "Sample complexity 443560\n",
      "Succeeded? True\n",
      "Sample complexity 262226\n"
     ]
    }
   ],
   "source": [
    "rage_dict = {}\n",
    "xy_static_dict = {}\n",
    "oracle_dict = {}\n",
    "rage_opt_dict = {}\n",
    "rage_center_dict = {}\n",
    "\n",
    "for d in sweep:\n",
    "    X, Z, theta_star = transductive_problem_instance(d, rad)\n",
    "    rage_dict[d] = []\n",
    "    xy_static_dict[d] = []\n",
    "    oracle_dict[d] = []\n",
    "    rage_opt_dict[d] = []\n",
    "    rage_center_dict[d] = []\n",
    "    \n",
    "    for seed in seeds:\n",
    "        print(d, seed)\n",
    "        rage_instance = RAGE(X, theta_star, factor, delta, Z)\n",
    "        rage_instance.algorithm(seed, var=False)\n",
    "        rage_dict[d].append((rage_instance.success, rage_instance.N))\n",
    "        \n",
    "        xy_static_instance = XY_STATIC(X, theta_star, delta, Z)\n",
    "        xy_static_instance.algorithm(seed)\n",
    "        xy_static_dict[d].append((xy_static_instance.success, xy_static_instance.N))\n",
    "        \n",
    "        oracle_instance = XY_ORACLE(X, theta_star, delta, Z)\n",
    "        oracle_instance.algorithm(seed)\n",
    "        oracle_dict[d].append((oracle_instance.success, oracle_instance.N))\n",
    "        \n",
    "        rage_opt_instance = RAGE_opt(X, theta_star, factor, delta, Z)\n",
    "        rage_opt_instance.algorithm(seed, var=False)\n",
    "        rage_opt_dict[d].append((rage_opt_instance.success, rage_opt_instance.N))\n",
    "        \n",
    "        rage_center_instance = RAGE_center(X, theta_star, factor, delta, Z)\n",
    "        rage_center_instance.algorithm(seed, var=False)\n",
    "        rage_center_dict[d].append((rage_center_instance.success, rage_center_instance.N))\n",
    "        "
   ]
  },
  {
   "cell_type": "code",
   "execution_count": 10,
   "metadata": {},
   "outputs": [],
   "source": [
    "# Save all dictionaries as json files\n",
    "import json\n",
    "\n",
    "def save_dict(json_filepath, dict_to_save):\n",
    "    with open(json_filepath, 'w') as f:\n",
    "        json.dump(dict_to_save, f)\n",
    "\n",
    "def load_json(json_filepath):\n",
    "    with open(json_filepath, 'r') as f:\n",
    "        return json.load(f)"
   ]
  },
  {
   "cell_type": "code",
   "execution_count": 26,
   "metadata": {},
   "outputs": [],
   "source": [
    "import os\n",
    "\n",
    "outdir = \"/homes/gws/sqhang/proj/2024_sqhang_Transductive-bandits/outputs/toy_dataset\"\n",
    "\n",
    "save_dict(os.path.join(outdir, \"rage.json\"), rage_dict)\n",
    "save_dict(os.path.join(outdir, \"xy_static.json\"), xy_static_dict)\n",
    "save_dict(os.path.join(outdir, \"oracle.json\"), oracle_dict)\n",
    "save_dict(os.path.join(outdir, \"rage_opt.json\"), rage_opt_dict)\n",
    "save_dict(os.path.join(outdir, \"rage_center.json\"), rage_center_dict)"
   ]
  },
  {
   "cell_type": "code",
   "execution_count": 27,
   "metadata": {},
   "outputs": [
    {
     "data": {
      "text/plain": [
       "{'20': [[True, 55114], [True, 55114], [True, 77295]],\n",
       " '40': [[True, 119144], [True, 119144], [True, 119144]],\n",
       " '60': [[True, 187425], [True, 187425], [True, 187425]],\n",
       " '80': [[True, 262226], [True, 262226], [True, 262226]]}"
      ]
     },
     "execution_count": 27,
     "metadata": {},
     "output_type": "execute_result"
    }
   ],
   "source": [
    "load_json(\"/homes/gws/sqhang/proj/2024_sqhang_Transductive-bandits/outputs/toy_dataset/rage_center.json\")"
   ]
  },
  {
   "cell_type": "code",
   "execution_count": 23,
   "metadata": {},
   "outputs": [],
   "source": [
    "def convert_dict_int(dictionary):\n",
    "    for (key, list) in dictionary.items():\n",
    "        dictionary[key] = [(bool(item[0]), int(item[1])) for item in list]\n",
    "    return dictionary"
   ]
  },
  {
   "cell_type": "code",
   "execution_count": 24,
   "metadata": {},
   "outputs": [],
   "source": [
    "rage_dict = convert_dict_int(rage_dict)\n",
    "xy_static_dict = convert_dict_int(xy_static_dict)\n",
    "oracle_dict = convert_dict_int(oracle_dict)\n",
    "rage_opt_dict = convert_dict_int(rage_opt_dict)\n",
    "rage_center_dict = convert_dict_int(rage_center_dict)"
   ]
  },
  {
   "cell_type": "code",
   "execution_count": 25,
   "metadata": {},
   "outputs": [
    {
     "name": "stdout",
     "output_type": "stream",
     "text": [
      "{20: [(True, 109852), (True, 109852), (True, 109852)], 40: [(True, 218023), (True, 218023), (True, 218023)], 60: [(True, 332245), (True, 332245), (True, 332245)], 80: [(True, 459917), (True, 459917), (True, 459917)]}\n",
      "{20: [(True, 2959553), (True, 2959553), (True, 5393745)], 40: [(True, 9830099), (True, 5393785), (True, 5393785)], 60: [(True, 17915320), (True, 17915320), (True, 9830139)], 80: [(True, 17915360), (True, 17915360), (True, 17915360)]}\n",
      "{20: [(True, 40766), (True, 27849), (True, 33694)], 40: [(True, 40766), (True, 33694), (True, 40766)], 60: [(True, 49323), (True, 40766), (True, 49323)], 80: [(True, 59677), (True, 72205), (True, 59677)]}\n",
      "{20: [(True, 109295), (True, 106248), (True, 106248)], 40: [(True, 214561), (True, 217921), (True, 214561)], 60: [(True, 323794), (True, 323558), (True, 320791)], 80: [(True, 449506), (True, 450373), (True, 443560)]}\n",
      "{20: [(True, 55114), (True, 55114), (True, 77295)], 40: [(True, 119144), (True, 119144), (True, 119144)], 60: [(True, 187425), (True, 187425), (True, 187425)], 80: [(True, 262226), (True, 262226), (True, 262226)]}\n"
     ]
    }
   ],
   "source": [
    "print(rage_dict)\n",
    "print(xy_static_dict)\n",
    "print(oracle_dict)\n",
    "print(rage_opt_dict)\n",
    "print(rage_center_dict)"
   ]
  },
  {
   "cell_type": "code",
   "execution_count": 14,
   "metadata": {},
   "outputs": [
    {
     "data": {
      "image/png": "[encoded data removed]",
      "text/plain": [
       "<Figure size 600x500 with 1 Axes>"
      ]
     },
     "metadata": {},
     "output_type": "display_data"
    }
   ],
   "source": [
    "# New Plot: Jun 3rd\n",
    "# Predefined color-blind friendly colors\n",
    "colors = plt.get_cmap('magma')\n",
    "markers = ['o', '^', 's', 'p', '*']\n",
    "\n",
    "num_lines = 5\n",
    "color_indices = np.linspace(0.0, 0.7, num_lines)\n",
    "\n",
    "plt.figure(figsize=(6, 5))\n",
    "for idx, (method_dict, label) in enumerate(zip([rage_dict, xy_static_dict, oracle_dict, rage_center_dict, rage_opt_dict],\n",
    "                              ['RAGE', 'XY_STATIC', 'ORACLE', 'RAGE_center', 'RAGE_opt'])):\n",
    "    means = [np.mean([n for _, n in method_dict[d]]) for d in sweep]\n",
    "    color = colors(color_indices[idx])\n",
    "    plt.plot(sweep, means, label=label, color=color, marker=markers[idx % len(markers)], linestyle=\"dashdot\")\n",
    "\n",
    "plt.xlabel('d dimension')\n",
    "plt.ylabel('Sample complexity')\n",
    "plt.yscale('log')\n",
    "# plt.title('Average Sample Complexity Across Methods')\n",
    "\n",
    "plt.legend(frameon=False, ncol=2, fontsize=\"small\")\n",
    "plt.show()\n"
   ]
  }
 ],
 "metadata": {
  "kernelspec": {
   "display_name": "Fiber-hap",
   "language": "python",
   "name": "python3"
  },
  "language_info": {
   "codemirror_mode": {
    "name": "ipython",
    "version": 3
   },
   "file_extension": ".py",
   "mimetype": "text/x-python",
   "name": "python",
   "nbconvert_exporter": "python",
   "pygments_lexer": "ipython3",
   "version": "3.10.13"
  }
 },
 "nbformat": 4,
 "nbformat_minor": 2
}
